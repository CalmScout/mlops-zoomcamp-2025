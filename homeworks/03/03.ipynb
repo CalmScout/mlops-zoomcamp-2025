{
 "cells": [
  {
   "cell_type": "markdown",
   "id": "47c8f0b0",
   "metadata": {},
   "source": [
    "# Homework #3 of MLOps Zoomcamp, Orchestration"
   ]
  },
  {
   "cell_type": "markdown",
   "id": "a55b3c18",
   "metadata": {},
   "source": [
    "Link to the task: [link](https://github.com/DataTalksClub/mlops-zoomcamp/blob/main/cohorts/2024/03-orchestration/homework.md).\n",
    "\n",
    "Command to install Mage-Ai:\n",
    "```bash\n",
    "docker pull mageai/mageai:latest\n",
    "```"
   ]
  },
  {
   "cell_type": "markdown",
   "id": "b208d315",
   "metadata": {},
   "source": [
    "## Question 1. Run Mage"
   ]
  },
  {
   "cell_type": "markdown",
   "id": "f4f8186c",
   "metadata": {},
   "source": [
    "Create a `docker-compose.yml` file in current `homeworks/03` folder with the following content:\n",
    "```bash\n",
    "services:\n",
    "  mage:\n",
    "    image: mageai/mageai:latest\n",
    "    container_name: mageai\n",
    "    ports:\n",
    "      - \"6789:6789\"\n",
    "    environment:\n",
    "      - USER_CODE_PATH=/home/src\n",
    "    volumes:\n",
    "      - .:/home/src\n",
    "    command: mage start homework_03\n",
    "```\n",
    "\n",
    "Then, `cd` to this directory and launch the Mage AI:\n",
    "```bash\n",
    "docker compose up\n",
    "```\n",
    "\n",
    "The UI is at http://0.0.0.0:6789/."
   ]
  },
  {
   "cell_type": "markdown",
   "id": "752f78da",
   "metadata": {},
   "source": [
    "We can see that the version is: `v0.9.76`."
   ]
  },
  {
   "cell_type": "markdown",
   "id": "2da8f4a7",
   "metadata": {},
   "source": [
    "## Question 2"
   ]
  },
  {
   "cell_type": "markdown",
   "id": "e48b25ca",
   "metadata": {},
   "source": [
    "`meatadata.yaml` file contains `55` lines."
   ]
  },
  {
   "cell_type": "markdown",
   "id": "4660c4f1",
   "metadata": {},
   "source": [
    "## Question 3. Creating a pipeline"
   ]
  },
  {
   "cell_type": "markdown",
   "id": "8378cfd8",
   "metadata": {},
   "source": [
    "Number of rows: `3403766`"
   ]
  },
  {
   "cell_type": "markdown",
   "id": "05706bbb",
   "metadata": {},
   "source": [
    "## Question 4. Data Preparation."
   ]
  },
  {
   "cell_type": "markdown",
   "id": "13173905",
   "metadata": {},
   "source": []
  }
 ],
 "metadata": {
  "kernelspec": {
   "display_name": ".venv",
   "language": "python",
   "name": "python3"
  },
  "language_info": {
   "codemirror_mode": {
    "name": "ipython",
    "version": 3
   },
   "file_extension": ".py",
   "mimetype": "text/x-python",
   "name": "python",
   "nbconvert_exporter": "python",
   "pygments_lexer": "ipython3",
   "version": "3.12.9"
  }
 },
 "nbformat": 4,
 "nbformat_minor": 5
}
