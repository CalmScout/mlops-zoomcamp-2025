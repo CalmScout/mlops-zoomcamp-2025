{
 "cells": [
  {
   "cell_type": "markdown",
   "id": "72a7ee85",
   "metadata": {},
   "source": [
    "# Homework 2"
   ]
  },
  {
   "cell_type": "markdown",
   "id": "1fc304bb",
   "metadata": {},
   "source": [
    "This is the first howework for the [MLOps zoomcamp](https://courses.datatalks.club/mlops-zoomcamp-2025/).<br>\n",
    "Questions to answer: [link](https://github.com/DataTalksClub/mlops-zoomcamp/blob/main/cohorts/2024/02-experiment-tracking/homework.md)."
   ]
  },
  {
   "cell_type": "markdown",
   "id": "061adaa4",
   "metadata": {},
   "source": [
    "## Q1. Install MLflow"
   ]
  },
  {
   "cell_type": "code",
   "execution_count": null,
   "id": "c3acbca7",
   "metadata": {},
   "outputs": [],
   "source": [
    "!uv pip install mlflow"
   ]
  },
  {
   "cell_type": "code",
   "execution_count": null,
   "id": "1a41a101",
   "metadata": {},
   "outputs": [],
   "source": [
    "!mlflow --version"
   ]
  },
  {
   "cell_type": "markdown",
   "id": "f0a8b0f9",
   "metadata": {},
   "source": [
    "## Q2. Download and preprocess the data"
   ]
  },
  {
   "cell_type": "markdown",
   "id": "9b4ea51d",
   "metadata": {},
   "source": [
    "Command to run:\n",
    "```bash\n",
    "(mlops-zoomcamp-2025) apopov@BSC-laptop:~/Projects/mlops-zoomcamp-2025$ python preprocess_data.py --raw_data_path /home/apopov/Projects/mlops-zoomcamp-2025/data --dest_path ../data_preprocessed/\n",
    "```"
   ]
  },
  {
   "cell_type": "markdown",
   "id": "f361da8b",
   "metadata": {},
   "source": [
    "```bash\n",
    "$ tree\n",
    ".\n",
    "├── dv.pkl\n",
    "├── test.pkl\n",
    "├── train.pkl\n",
    "└── val.pkl\n",
    "```"
   ]
  },
  {
   "cell_type": "markdown",
   "id": "7cd1c114",
   "metadata": {},
   "source": [
    "4 files were generated."
   ]
  },
  {
   "cell_type": "markdown",
   "id": "9eb509f0",
   "metadata": {},
   "source": [
    "## Q3. Train a model with autolog"
   ]
  },
  {
   "cell_type": "markdown",
   "id": "4d5771c4",
   "metadata": {},
   "source": []
  }
 ],
 "metadata": {
  "kernelspec": {
   "display_name": ".venv",
   "language": "python",
   "name": "python3"
  },
  "language_info": {
   "codemirror_mode": {
    "name": "ipython",
    "version": 3
   },
   "file_extension": ".py",
   "mimetype": "text/x-python",
   "name": "python",
   "nbconvert_exporter": "python",
   "pygments_lexer": "ipython3",
   "version": "3.12.9"
  }
 },
 "nbformat": 4,
 "nbformat_minor": 5
}
