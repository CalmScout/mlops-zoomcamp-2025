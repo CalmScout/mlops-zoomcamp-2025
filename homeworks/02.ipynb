{
 "cells": [
  {
   "cell_type": "markdown",
   "id": "72a7ee85",
   "metadata": {},
   "source": [
    "# Homework 2"
   ]
  },
  {
   "cell_type": "markdown",
   "id": "1fc304bb",
   "metadata": {},
   "source": [
    "This is the first howework for the [MLOps zoomcamp](https://courses.datatalks.club/mlops-zoomcamp-2025/).<br>\n",
    "Questions to answer: [link](https://github.com/DataTalksClub/mlops-zoomcamp/blob/main/cohorts/2024/02-experiment-tracking/homework.md)."
   ]
  },
  {
   "cell_type": "markdown",
   "id": "061adaa4",
   "metadata": {},
   "source": [
    "## Q1. Install MLflow"
   ]
  },
  {
   "cell_type": "code",
   "execution_count": null,
   "id": "c3acbca7",
   "metadata": {},
   "outputs": [],
   "source": [
    "!uv pip install mlflow"
   ]
  },
  {
   "cell_type": "code",
   "execution_count": 4,
   "id": "1a41a101",
   "metadata": {},
   "outputs": [
    {
     "name": "stdout",
     "output_type": "stream",
     "text": [
      "mlflow, version 2.22.0\n"
     ]
    }
   ],
   "source": [
    "!mlflow --version"
   ]
  },
  {
   "cell_type": "markdown",
   "id": "f0a8b0f9",
   "metadata": {},
   "source": [
    "## Q2. Download and preprocess the data"
   ]
  },
  {
   "cell_type": "markdown",
   "id": "9b4ea51d",
   "metadata": {},
   "source": [
    "Command to run:\n",
    "```bash\n",
    "(mlops-zoomcamp-2025) apopov@BSC-laptop:~/Projects/mlops-zoomcamp-2025$ python preprocess_data.py --raw_data_path /home/apopov/Projects/mlops-zoomcamp-2025/data --dest_path ../data_preprocessed/\n",
    "```"
   ]
  },
  {
   "cell_type": "markdown",
   "id": "f361da8b",
   "metadata": {},
   "source": [
    "```bash\n",
    "$ tree\n",
    ".\n",
    "├── dv.pkl\n",
    "├── test.pkl\n",
    "├── train.pkl\n",
    "└── val.pkl\n",
    "```"
   ]
  },
  {
   "cell_type": "markdown",
   "id": "7cd1c114",
   "metadata": {},
   "source": [
    "4 files were generated."
   ]
  },
  {
   "cell_type": "markdown",
   "id": "9eb509f0",
   "metadata": {},
   "source": [
    "## Q3. Train a model with autolog"
   ]
  },
  {
   "cell_type": "markdown",
   "id": "4d5771c4",
   "metadata": {},
   "source": [
    "After training the model and running the `mlflow ui` command we can see that:<br>\n",
    "\n",
    "| min_samples_split | 2 |\n",
    "| ---- | - |"
   ]
  },
  {
   "cell_type": "markdown",
   "id": "2a587fa8",
   "metadata": {},
   "source": [
    "## Q4. Launch the tracking server locally"
   ]
  },
  {
   "cell_type": "markdown",
   "id": "205a19e5",
   "metadata": {},
   "source": [
    "```bash\n",
    "mlflow server \\\n",
    "  --backend-store-uri sqlite:///db/mlflow.db \\\n",
    "  --default-artifact-root $(pwd)/artifacts \\\n",
    "  --host 127.0.0.1 \\\n",
    "  --port 5000\n",
    "```\n",
    "\n",
    "| Argument                  | Description                                                           |\n",
    "| ------------------------- | --------------------------------------------------------------------- |\n",
    "| `--backend-store-uri`     | Points to your SQLite DB file.                                        |\n",
    "| `--default-artifact-root` | Folder to store artifacts like models, plots, etc. Use absolute path. |\n",
    "| `--host`                  | `127.0.0.1` limits server to local access.                            |\n",
    "| `--port`                  | Port for MLflow UI (default: `5000`)                                  |\n"
   ]
  },
  {
   "cell_type": "markdown",
   "id": "ddefe7d9",
   "metadata": {},
   "source": [
    "`default-artifact-root` has to be defined."
   ]
  },
  {
   "cell_type": "markdown",
   "id": "8eb0f30c",
   "metadata": {},
   "source": [
    "## Q5. Tune model hyperparameters"
   ]
  },
  {
   "cell_type": "markdown",
   "id": "b67e0e41",
   "metadata": {},
   "source": [
    "The best RMSE after hyperparameters optimization is: `5.33`."
   ]
  },
  {
   "cell_type": "markdown",
   "id": "855c667c",
   "metadata": {},
   "source": [
    "## Q6: Promote the best model to the model registry"
   ]
  },
  {
   "cell_type": "markdown",
   "id": "74a4e6fc",
   "metadata": {},
   "source": [
    "RMSE: 5.5674"
   ]
  },
  {
   "cell_type": "markdown",
   "id": "35c0e632",
   "metadata": {},
   "source": []
  }
 ],
 "metadata": {
  "kernelspec": {
   "display_name": ".venv",
   "language": "python",
   "name": "python3"
  },
  "language_info": {
   "codemirror_mode": {
    "name": "ipython",
    "version": 3
   },
   "file_extension": ".py",
   "mimetype": "text/x-python",
   "name": "python",
   "nbconvert_exporter": "python",
   "pygments_lexer": "ipython3",
   "version": "3.12.9"
  }
 },
 "nbformat": 4,
 "nbformat_minor": 5
}
