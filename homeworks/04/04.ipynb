{
 "cells": [
  {
   "cell_type": "markdown",
   "id": "09fd730f",
   "metadata": {},
   "source": [
    "# Homework"
   ]
  },
  {
   "cell_type": "code",
   "execution_count": 2,
   "id": "b3ae7aa3",
   "metadata": {},
   "outputs": [],
   "source": [
    "from pathlib import Path\n",
    "import pickle\n",
    "import pandas as pd\n",
    "import numpy as np"
   ]
  },
  {
   "cell_type": "code",
   "execution_count": 3,
   "id": "d34cee3a",
   "metadata": {},
   "outputs": [],
   "source": [
    "path_data = Path(\"../../data\")\n",
    "assert path_data.exists()"
   ]
  },
  {
   "cell_type": "markdown",
   "id": "5d1c8ddd",
   "metadata": {},
   "source": [
    "## Q1. Notebook"
   ]
  },
  {
   "cell_type": "markdown",
   "id": "a88a4c1f",
   "metadata": {},
   "source": [
    "We'll start with the same notebook we ended up with in homework 1. We cleaned it a little bit and kept only the scoring part. You can find the initial notebook [here](https://github.com/DataTalksClub/mlops-zoomcamp/blob/main/cohorts/2025/04-deployment/homework/starter.ipynb).\n",
    "\n",
    "Run this notebook for the March 2023 data.\n",
    "\n",
    "What's the standard deviation of the predicted duration for this dataset?\n",
    "\n",
    "- 1.24\n",
    "- 6.24\n",
    "- 12.28\n",
    "- 18.28"
   ]
  },
  {
   "cell_type": "code",
   "execution_count": 4,
   "id": "2aa7d186",
   "metadata": {},
   "outputs": [
    {
     "name": "stdout",
     "output_type": "stream",
     "text": [
      "\u001b[2mUsing Python 3.10.13 environment at: /home/calmscout/Projects/PythonProjects/mlops-zoomcamp-2025/.venv\u001b[0m\n",
      "\u001b[1mscikit-learn\u001b[0m==1.5.0\n"
     ]
    }
   ],
   "source": [
    "!uv pip freeze | grep scikit-learn"
   ]
  },
  {
   "cell_type": "code",
   "execution_count": 5,
   "id": "1692b69e",
   "metadata": {},
   "outputs": [
    {
     "name": "stdout",
     "output_type": "stream",
     "text": [
      "Python 3.10.13\n"
     ]
    }
   ],
   "source": [
    "!python -V"
   ]
  },
  {
   "cell_type": "code",
   "execution_count": 6,
   "id": "0bea49d6",
   "metadata": {},
   "outputs": [],
   "source": [
    "with open('model.bin', 'rb') as f_in:\n",
    "    dv, model = pickle.load(f_in)"
   ]
  },
  {
   "cell_type": "code",
   "execution_count": 7,
   "id": "eaf2e557",
   "metadata": {},
   "outputs": [],
   "source": [
    "categorical = ['PULocationID', 'DOLocationID']\n",
    "\n",
    "def read_data(filename):\n",
    "    df = pd.read_parquet(filename)\n",
    "    \n",
    "    df['duration'] = df.tpep_dropoff_datetime - df.tpep_pickup_datetime\n",
    "    df['duration'] = df.duration.dt.total_seconds() / 60\n",
    "\n",
    "    df = df[(df.duration >= 1) & (df.duration <= 60)].copy()\n",
    "\n",
    "    df[categorical] = df[categorical].fillna(-1).astype('int').astype('str')\n",
    "    \n",
    "    return df"
   ]
  },
  {
   "cell_type": "code",
   "execution_count": 9,
   "id": "5029974e",
   "metadata": {},
   "outputs": [],
   "source": [
    "df = read_data('https://d37ci6vzurychx.cloudfront.net/trip-data/yellow_tripdata_2023-03.parquet')"
   ]
  },
  {
   "cell_type": "code",
   "execution_count": 10,
   "id": "c66ad8d0",
   "metadata": {},
   "outputs": [],
   "source": [
    "dicts = df[categorical].to_dict(orient='records')\n",
    "X_val = dv.transform(dicts)\n",
    "y_pred = model.predict(X_val)"
   ]
  },
  {
   "cell_type": "code",
   "execution_count": 11,
   "id": "3410b35e",
   "metadata": {},
   "outputs": [
    {
     "data": {
      "text/plain": [
       "np.float64(6.247488852238703)"
      ]
     },
     "execution_count": 11,
     "metadata": {},
     "output_type": "execute_result"
    }
   ],
   "source": [
    "np.std(y_pred)"
   ]
  },
  {
   "cell_type": "markdown",
   "id": "2a2fff8a",
   "metadata": {},
   "source": [
    "❓: `6.24`"
   ]
  },
  {
   "cell_type": "markdown",
   "id": "632ebf0e",
   "metadata": {},
   "source": [
    "## Q2. Preparing the output"
   ]
  },
  {
   "cell_type": "markdown",
   "id": "d789dec2",
   "metadata": {},
   "source": [
    "Like in the course videos, we want to prepare the dataframe with the output.\n",
    "\n",
    "First, let's create an artificial ride_id column:"
   ]
  },
  {
   "cell_type": "code",
   "execution_count": 12,
   "id": "c7845a25",
   "metadata": {},
   "outputs": [],
   "source": [
    "year = 2023\n",
    "month = 3\n",
    "df['ride_id'] = f'{year:04d}/{month:02d}_' + df.index.astype('str')"
   ]
  },
  {
   "cell_type": "markdown",
   "id": "fd67036d",
   "metadata": {},
   "source": [
    "Next, write the ride id and the predictions to a dataframe with results."
   ]
  },
  {
   "cell_type": "code",
   "execution_count": 13,
   "id": "d0d1cb8d",
   "metadata": {},
   "outputs": [],
   "source": [
    "df_result = pd.DataFrame()\n",
    "df_result['ride_id'] = df['ride_id']\n",
    "df_result['predicted_duration'] = y_pred"
   ]
  },
  {
   "cell_type": "markdown",
   "id": "b95d9f18",
   "metadata": {},
   "source": [
    "Save it as parquet:"
   ]
  },
  {
   "cell_type": "code",
   "execution_count": 14,
   "id": "e7e07369",
   "metadata": {},
   "outputs": [],
   "source": [
    "df_result.to_parquet(\n",
    "    'predictions.parquet',\n",
    "    engine='pyarrow',\n",
    "    compression=None,\n",
    "    index=False\n",
    ")"
   ]
  },
  {
   "cell_type": "markdown",
   "id": "ab3023c5",
   "metadata": {},
   "source": [
    "What's the size of the output file?\n",
    "\n",
    "- 36M\n",
    "- 46M\n",
    "- 56M\n",
    "- 66M\n",
    "\n",
    "**Note**: Make sure you use the snippet above for saving the file. It should contain only these two columns. For this question, don't change the dtypes of the columns and use `pyarrow`, not `fastparquet`."
   ]
  },
  {
   "cell_type": "code",
   "execution_count": 15,
   "id": "2a2fff7d",
   "metadata": {},
   "outputs": [
    {
     "name": "stdout",
     "output_type": "stream",
     "text": [
      "66M\tpredictions.parquet\n"
     ]
    }
   ],
   "source": [
    "!du -h predictions.parquet"
   ]
  },
  {
   "cell_type": "markdown",
   "id": "0c3c64e3",
   "metadata": {},
   "source": [
    "❓: `66M`"
   ]
  },
  {
   "cell_type": "markdown",
   "id": "d5766dc3",
   "metadata": {},
   "source": [
    "## Q3. Creating the scoring script"
   ]
  },
  {
   "cell_type": "markdown",
   "id": "d74163e4",
   "metadata": {},
   "source": [
    "Now let's turn the notebook into a script.\n",
    "\n",
    "Which command you need to execute for that?\n",
    "\n",
    "```bash\n",
    "jupyter nbconvert --to script your_notebook.ipynb\n",
    "```"
   ]
  },
  {
   "cell_type": "code",
   "execution_count": 16,
   "id": "623bec56",
   "metadata": {},
   "outputs": [
    {
     "name": "stdout",
     "output_type": "stream",
     "text": [
      "[NbConvertApp] Converting notebook 04.ipynb to script\n",
      "[NbConvertApp] Writing 1621 bytes to 04.py\n"
     ]
    }
   ],
   "source": [
    "!jupyter nbconvert --to script 04.ipynb --TemplateExporter.exclude_markdown=True"
   ]
  },
  {
   "cell_type": "markdown",
   "id": "67482fd1",
   "metadata": {},
   "source": [
    "## Q4. Virtual environment"
   ]
  },
  {
   "cell_type": "markdown",
   "id": "18462ee7",
   "metadata": {},
   "source": [
    "Now let's put everything into a virtual environment. We'll use pipenv for that.\n",
    "\n",
    "Install all the required libraries. Pay attention to the Scikit-Learn version: it should be the same as in the starter notebook.\n",
    "\n",
    "After installing the libraries, pipenv creates two files: Pipfile and Pipfile.lock. The Pipfile.lock file keeps the hashes of the dependencies we use for the virtual env.\n",
    "\n",
    "What's the first hash for the Scikit-Learn dependency?"
   ]
  },
  {
   "cell_type": "markdown",
   "id": "65f36975",
   "metadata": {},
   "source": [
    "```bash\n",
    "grep -A 5 '\"scikit-learn\"' Pipfile.lock\n",
    "        \"scikit-learn\": {\n",
    "            \"hashes\": [\n",
    "                \"sha256:057b991ac64b3e75c9c04b5f9395eaf19a6179244c089afdebaad98264bff37c\",\n",
    "                \"sha256:118a8d229a41158c9f90093e46b3737120a165181a1b58c03461447aa4657415\",\n",
    "                \"sha256:12e40ac48555e6b551f0a0a5743cc94cc5a765c9513fe708e01f0aa001da2801\",\n",
    "                \"sha256:174beb56e3e881c90424e21f576fa69c4ffcf5174632a79ab4461c4c960315ac\",\n",
    "```"
   ]
  },
  {
   "cell_type": "markdown",
   "id": "2c1fee9b",
   "metadata": {},
   "source": [
    "❓: `sha256:057b991ac64b3e75c9c04b5f9395eaf19a6179244c089afdebaad98264bff37c`"
   ]
  },
  {
   "cell_type": "markdown",
   "id": "6d12244b",
   "metadata": {},
   "source": [
    "## Q5. Parametrize the script"
   ]
  },
  {
   "cell_type": "markdown",
   "id": "146af958",
   "metadata": {},
   "source": [
    "Let's now make the script configurable via CLI. We'll create two parameters: year and month.\n",
    "\n",
    "Run the script for April 2023.\n",
    "\n",
    "What's the mean predicted duration?\n",
    "\n",
    "- 7.29\n",
    "- 14.29\n",
    "- 21.29\n",
    "- 28.29\n",
    "\n",
    "Hint: just add a print statement to your script."
   ]
  },
  {
   "cell_type": "markdown",
   "id": "e3d32cb5",
   "metadata": {},
   "source": [
    "```bash\n",
    "❯ python 04.py --year 2023 --month 4\n",
    "Mean predicted duration: 14.292282936862449\n",
    "```"
   ]
  },
  {
   "cell_type": "markdown",
   "id": "bfb862a9",
   "metadata": {},
   "source": [
    "❓: `14.29`"
   ]
  },
  {
   "cell_type": "markdown",
   "id": "091aec6c",
   "metadata": {},
   "source": [
    "## Q6. Docker container"
   ]
  },
  {
   "cell_type": "markdown",
   "id": "221248f4",
   "metadata": {},
   "source": [
    "Finally, we'll package the script in the docker container. For that, you'll need to use a base image that we prepared.\n",
    "\n",
    "This is what the content of this image is:\n",
    "\n",
    "```dockerfile\n",
    "FROM python:3.10.13-slim\n",
    "\n",
    "WORKDIR /app\n",
    "COPY [ \"model2.bin\", \"model.bin\" ]\n",
    "```\n",
    "\n",
    "Note: you don't need to run it. We have already done it.\n",
    "\n",
    "It is pushed to [agrigorev/zoomcamp-model:mlops-2024-3.10.13-slim](https://hub.docker.com/layers/agrigorev/zoomcamp-model/mlops-2024-3.10.13-slim/images/sha256-f54535b73a8c3ef91967d5588de57d4e251b22addcbbfb6e71304a91c1c7027f?context=repo), which you need to use as your base image.\n",
    "\n",
    "That is, your Dockerfile should start with:\n",
    "\n",
    "```dockerfile\n",
    "FROM agrigorev/zoomcamp-model:mlops-2024-3.10.13-slim\n",
    "\n",
    "# do stuff here\n",
    "```\n",
    "\n",
    "This image already has a pickle file with a dictionary vectorizer and a model. You will need to use them.\n",
    "\n",
    "Important: don't copy the model to the docker image. You will need to use the pickle file already in the image.\n",
    "\n",
    "Now run the script with docker. What's the mean predicted duration for May 2023?\n",
    "\n",
    "- 0.19\n",
    "- 7.24\n",
    "- 14.24\n",
    "- 21.19"
   ]
  },
  {
   "cell_type": "markdown",
   "id": "b01e31be",
   "metadata": {},
   "source": [
    "### 🧱 Step 1: Prepare Your Files"
   ]
  },
  {
   "cell_type": "markdown",
   "id": "4096e627",
   "metadata": {},
   "source": [
    "Your directory should have:\n",
    "```\n",
    ".\n",
    "├── Dockerfile\n",
    "├── predict.py         ← your CLI Python script\n",
    "├── requirements.txt   ← for Python deps (like pandas, scikit-learn)\n",
    "```"
   ]
  },
  {
   "cell_type": "markdown",
   "id": "304ce3ad",
   "metadata": {},
   "source": [
    "### 📜 Step 2: requirements.txt"
   ]
  },
  {
   "cell_type": "markdown",
   "id": "62b87f43",
   "metadata": {},
   "source": [
    "```\n",
    "pandas\n",
    "scikit-learn==1.5.0\n",
    "pyarrow\n",
    "```\n"
   ]
  },
  {
   "cell_type": "markdown",
   "id": "cd66b328",
   "metadata": {},
   "source": [
    "### 🐳 Step 3: Dockerfile"
   ]
  },
  {
   "cell_type": "markdown",
   "id": "fef1ccf0",
   "metadata": {},
   "source": [
    "```dockerfile\n",
    "FROM agrigorev/zoomcamp-model:mlops-2024-3.10.13-slim\n",
    "\n",
    "WORKDIR /app\n",
    "\n",
    "# Copy your script and dependencies\n",
    "COPY predict.py .\n",
    "COPY requirements.txt .\n",
    "\n",
    "# Install the Python packages\n",
    "RUN pip install --no-cache-dir -r requirements.txt\n",
    "\n",
    "# Run prediction script by default (can be overridden at runtime)\n",
    "ENTRYPOINT [\"python\", \"predict.py\"]\n",
    "```"
   ]
  },
  {
   "cell_type": "markdown",
   "id": "974e907b",
   "metadata": {},
   "source": [
    "### 🏗️ Step 4: Build the Docker Image"
   ]
  },
  {
   "cell_type": "markdown",
   "id": "4a78703e",
   "metadata": {},
   "source": [
    "```bash\n",
    "docker build -t duration-predictor .\n",
    "```"
   ]
  },
  {
   "cell_type": "markdown",
   "id": "a405c097",
   "metadata": {},
   "source": [
    "### 🚀 Step 5: Run the Container"
   ]
  },
  {
   "cell_type": "markdown",
   "id": "bf1347a7",
   "metadata": {},
   "source": [
    "We're running the script inside Docker for May 2023:"
   ]
  },
  {
   "cell_type": "markdown",
   "id": "23e0f39f",
   "metadata": {},
   "source": [
    "```bash\n",
    "❯ docker run duration-predictor --year 2023 --month 5\n",
    "\n",
    "Mean predicted duration: 0.19174419265916945\n",
    "```"
   ]
  },
  {
   "cell_type": "markdown",
   "id": "9c2dccaa",
   "metadata": {},
   "source": [
    "❓: `0.19`"
   ]
  },
  {
   "cell_type": "markdown",
   "id": "bfad57a4",
   "metadata": {},
   "source": []
  }
 ],
 "metadata": {
  "kernelspec": {
   "display_name": ".venv",
   "language": "python",
   "name": "python3"
  },
  "language_info": {
   "codemirror_mode": {
    "name": "ipython",
    "version": 3
   },
   "file_extension": ".py",
   "mimetype": "text/x-python",
   "name": "python",
   "nbconvert_exporter": "python",
   "pygments_lexer": "ipython3",
   "version": "3.10.13"
  }
 },
 "nbformat": 4,
 "nbformat_minor": 5
}
